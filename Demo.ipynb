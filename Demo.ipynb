{
 "cells": [
  {
   "cell_type": "code",
   "execution_count": 1,
   "metadata": {},
   "outputs": [],
   "source": [
    "import SetOperations as so"
   ]
  },
  {
   "cell_type": "markdown",
   "metadata": {},
   "source": [
    "# 测试集合"
   ]
  },
  {
   "cell_type": "code",
   "execution_count": 2,
   "metadata": {},
   "outputs": [],
   "source": [
    "set1=[[1,3,1,1], [5, 10, 0, 1]]     # [1, 3] or (5, 10]\n",
    "set2=[2,7,0,1]     #(2, 7]\n",
    "set3=[-5, 0, 0, 1]"
   ]
  },
  {
   "cell_type": "markdown",
   "metadata": {},
   "source": [
    "# 区间set3是否为set1子集"
   ]
  },
  {
   "cell_type": "code",
   "execution_count": 3,
   "metadata": {},
   "outputs": [
    {
     "name": "stdout",
     "output_type": "stream",
     "text": [
      "False\n"
     ]
    }
   ],
   "source": [
    "print(so.IsSubset(set3, set1))      # set3 is subset of set1 or not"
   ]
  },
  {
   "cell_type": "markdown",
   "metadata": {},
   "source": [
    "# 求区间set1的补集"
   ]
  },
  {
   "cell_type": "code",
   "execution_count": 4,
   "metadata": {},
   "outputs": [
    {
     "name": "stdout",
     "output_type": "stream",
     "text": [
      "[[-inf, 1, 0, 0], [3, 5, 0, 1], [10, inf, 0, 0]]\n"
     ]
    }
   ],
   "source": [
    "print(so.Complement(set1))    # complement of set1"
   ]
  },
  {
   "cell_type": "markdown",
   "metadata": {},
   "source": [
    "# 求区间的交集"
   ]
  },
  {
   "cell_type": "code",
   "execution_count": 5,
   "metadata": {},
   "outputs": [
    {
     "name": "stdout",
     "output_type": "stream",
     "text": [
      "[[2, 3, 0, 1], [5, 7, 0, 1]]\n",
      "[]\n"
     ]
    }
   ],
   "source": [
    "print(so.Intersection(set1, set2) )   # intersections of set1 and set2\n",
    "print(so.Intersections([set1, set2, set3]))    # intersections of sets..."
   ]
  },
  {
   "cell_type": "markdown",
   "metadata": {},
   "source": [
    "# 求区间的并集"
   ]
  },
  {
   "cell_type": "code",
   "execution_count": 6,
   "metadata": {},
   "outputs": [
    {
     "name": "stdout",
     "output_type": "stream",
     "text": [
      "[1, 10, 1, 1]\n",
      "[[-5, 0, 0, 1], [1, 10, 1, 1]]\n"
     ]
    }
   ],
   "source": [
    "print(so.Union(set1, set2))        # unionSet of set1 and set2\n",
    "print(so.Unions([set1, set2, set3]))  # UnionSet of sets..."
   ]
  },
  {
   "cell_type": "markdown",
   "metadata": {},
   "source": [
    "# 区间修剪"
   ]
  },
  {
   "cell_type": "code",
   "execution_count": 7,
   "metadata": {},
   "outputs": [
    {
     "name": "stdout",
     "output_type": "stream",
     "text": [
      "[[3.0, 7, 1, 1], [10.0, inf, 0, 0]]\n"
     ]
    }
   ],
   "source": [
    "print(so.TrimSets([[10.0, float('inf'), 0, 0], [3.0, 5.0, 1, 0], [5, 7, 1, 1]]))    # merge and sort intervals"
   ]
  },
  {
   "cell_type": "markdown",
   "metadata": {},
   "source": [
    "# 区间格式转换"
   ]
  },
  {
   "cell_type": "code",
   "execution_count": 8,
   "metadata": {},
   "outputs": [
    {
     "name": "stdout",
     "output_type": "stream",
     "text": [
      "[[10.0, inf, 0, 0], [3.0, 5.0, 1, 0]]\n",
      "x>10.0 or 3.0<=x<5.0\n",
      "(10.0, inf) or [3.0, 5.0)\n"
     ]
    }
   ],
   "source": [
    "print(so.Expression2Limit('x>10 or 3<=x<5'))    # convert expression to limit\n",
    "print(so.Limit2Expression([[10.0, float('inf'), 0, 0], [3.0, 5.0, 1, 0]]))   # convert limit to expression \n",
    "print(so.Limit2String([[10.0, float('inf'), 0, 0], [3.0, 5.0, 1, 0]]))       # convert limit to string "
   ]
  }
 ],
 "metadata": {
  "kernelspec": {
   "display_name": "Python 3",
   "language": "python",
   "name": "python3"
  },
  "language_info": {
   "codemirror_mode": {
    "name": "ipython",
    "version": 3
   },
   "file_extension": ".py",
   "mimetype": "text/x-python",
   "name": "python",
   "nbconvert_exporter": "python",
   "pygments_lexer": "ipython3",
   "version": "3.7.6"
  }
 },
 "nbformat": 4,
 "nbformat_minor": 4
}
